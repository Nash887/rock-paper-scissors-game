{
  "nbformat": 4,
  "nbformat_minor": 0,
  "metadata": {
    "colab": {
      "provenance": [],
      "authorship_tag": "ABX9TyM9RRy39E+gk8k+vlFPzyET",
      "include_colab_link": true
    },
    "kernelspec": {
      "name": "python3",
      "display_name": "Python 3"
    },
    "language_info": {
      "name": "python"
    }
  },
  "cells": [
    {
      "cell_type": "markdown",
      "metadata": {
        "id": "view-in-github",
        "colab_type": "text"
      },
      "source": [
        "<a href=\"https://colab.research.google.com/github/Nash887/rock-paper-scissors-game/blob/main/RockPaperScissorsGame.ipynb\" target=\"_parent\"><img src=\"https://colab.research.google.com/assets/colab-badge.svg\" alt=\"Open In Colab\"/></a>"
      ]
    },
    {
      "cell_type": "code",
      "execution_count": 6,
      "metadata": {
        "colab": {
          "base_uri": "https://localhost:8080/"
        },
        "id": "JPhqBdfcTWt-",
        "outputId": "eaa5c5cf-106a-4482-fb82-bfb196bc51f0"
      },
      "outputs": [
        {
          "name": "stdout",
          "output_type": "stream",
          "text": [
            "Enter rock, paper, or scissors: paper\n",
            "You chose: paper\n",
            "Computer chose: scissors\n",
            "Computer wins!\n",
            "Do you want to play again? (yes/no): yes\n",
            "Enter rock, paper, or scissors: rocl\n",
            "Invalid choice. Please enter rock, paper, or scissors.\n",
            "Enter rock, paper, or scissors: rock\n",
            "You chose: rock\n",
            "Computer chose: scissors\n",
            "You win!\n",
            "Do you want to play again? (yes/no): no\n"
          ]
        }
      ],
      "source": [
        "import random\n",
        "\n",
        "def get_computer_choice():\n",
        "    choices = ['rock', 'paper', 'scissors']   #randomly select rock, paper or scissors for the computer\n",
        "    return random.choice(choices)\n",
        "\n",
        "def get_user_choice():\n",
        "    while True:\n",
        "      user_input = input(\"Enter rock, paper, or scissors: \").lower()   #get user's choice and validate\n",
        "      if user_input in ['rock', 'paper', 'scissors']:\n",
        "        return user_input\n",
        "      else:\n",
        "        print(\"Invalid choice. Please enter rock, paper, or scissors.\")\n",
        "\n",
        "def determine_winner(user_choice, computer_choice):\n",
        "    if user_choice == computer_choice:                 #determine the winner of the game\n",
        "        return \"It's a draw!\"\n",
        "\n",
        "    elif (user_choice == 'rock' and computer_choice == 'scissors') or \\\n",
        "         (user_choice == 'paper' and computer_choice == 'rock') or \\\n",
        "         (user_choice == 'scissors' and computer_choice == 'paper'):\n",
        "        return \"You win!\"\n",
        "\n",
        "    else:\n",
        "        return \"Computer wins!\"\n",
        "\n",
        "def play_game():\n",
        "    user_choice = get_user_choice()           #play rockpaperscissorsgame\n",
        "    computer_choice = get_computer_choice()\n",
        "    print(f\"You chose: {user_choice}\")\n",
        "    print(f\"Computer chose: {computer_choice}\")\n",
        "    result = determine_winner(user_choice, computer_choice)\n",
        "    print(result)\n",
        "\n",
        "    play_again = input(\"Do you want to play again? (yes/no): \") #ask user if they want to play again\n",
        "    if play_again.lower() == 'yes':\n",
        "        play_game()\n",
        "\n",
        "if __name__ == \"__main__\":\n",
        "     play_game()\n",
        "\n",
        "\n",
        "\n",
        "\n",
        "\n",
        "\n",
        "\n",
        "\n",
        "\n",
        "\n",
        "\n",
        "\n",
        "\n",
        "\n",
        "\n",
        "\n"
      ]
    }
  ]
}